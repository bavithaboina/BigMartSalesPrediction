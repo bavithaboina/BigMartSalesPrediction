{
 "cells": [
  {
   "cell_type": "markdown",
   "id": "c28c25fe",
   "metadata": {},
   "source": [
    "#### steps I performed\n",
    "##### FE:\n",
    "* handled missing values\n",
    "* treated nuances in the data that we observed in EDA\n",
    "    * there are different categories in  Item_Types and some do not have substantial numbers\n",
    "    * some category names are different in Item_Fat_Content\n",
    "    * Item_Visibility being 0 does not make sense\n",
    "    * Outlet_establishment_year .. year number doesnot make sense ...number of years make sense\n",
    "* encoding \n",
    "##### MODEL BUILDING:\n",
    "* Tested for different regression models\n",
    "* choosen the model which has less overfitting and the one that did not predict negatives in train as well as test\n",
    "* performed hyper paramter tuning (random search cv) and checked the accuracy\n",
    "* tried grid search using the best params from random search and checked the accuracy"
   ]
  },
  {
   "cell_type": "code",
   "execution_count": 1,
   "id": "9a058100",
   "metadata": {},
   "outputs": [],
   "source": [
    "import warnings\n",
    "warnings.filterwarnings('ignore')\n",
    "import pandas as pd\n",
    "import numpy as np\n",
    "import seaborn as sns\n",
    "import matplotlib.pyplot as plt\n",
    "%matplotlib inline"
   ]
  },
  {
   "cell_type": "code",
   "execution_count": 2,
   "id": "acd81e8a",
   "metadata": {},
   "outputs": [],
   "source": [
    "train_orig = pd.read_csv(\"train.csv\")\n",
    "test_orig = pd.read_csv(\"test.csv\")"
   ]
  },
  {
   "cell_type": "code",
   "execution_count": 3,
   "id": "fbfd7e7f",
   "metadata": {},
   "outputs": [],
   "source": [
    "train = train_orig.copy()\n",
    "test = test_orig.copy()"
   ]
  },
  {
   "cell_type": "code",
   "execution_count": 4,
   "id": "5c74c1d7",
   "metadata": {},
   "outputs": [
    {
     "data": {
      "text/plain": [
       "(8523, 12)"
      ]
     },
     "execution_count": 4,
     "metadata": {},
     "output_type": "execute_result"
    }
   ],
   "source": [
    "train.shape"
   ]
  },
  {
   "cell_type": "code",
   "execution_count": 5,
   "id": "dda2d3dd",
   "metadata": {},
   "outputs": [
    {
     "data": {
      "text/plain": [
       "(5681, 11)"
      ]
     },
     "execution_count": 5,
     "metadata": {},
     "output_type": "execute_result"
    }
   ],
   "source": [
    "\n",
    "\n",
    "test.shape"
   ]
  },
  {
   "cell_type": "code",
   "execution_count": 6,
   "id": "feb6918d",
   "metadata": {
    "scrolled": false
   },
   "outputs": [
    {
     "data": {
      "text/plain": [
       "Item_Identifier                 0\n",
       "Item_Weight                  1463\n",
       "Item_Fat_Content                0\n",
       "Item_Visibility                 0\n",
       "Item_Type                       0\n",
       "Item_MRP                        0\n",
       "Outlet_Identifier               0\n",
       "Outlet_Establishment_Year       0\n",
       "Outlet_Size                  2410\n",
       "Outlet_Location_Type            0\n",
       "Outlet_Type                     0\n",
       "Item_Outlet_Sales               0\n",
       "dtype: int64"
      ]
     },
     "execution_count": 6,
     "metadata": {},
     "output_type": "execute_result"
    }
   ],
   "source": [
    "train.isnull().sum()"
   ]
  },
  {
   "cell_type": "code",
   "execution_count": 7,
   "id": "eeaa0131",
   "metadata": {},
   "outputs": [
    {
     "data": {
      "text/plain": [
       "Item_Identifier                 0\n",
       "Item_Weight                   976\n",
       "Item_Fat_Content                0\n",
       "Item_Visibility                 0\n",
       "Item_Type                       0\n",
       "Item_MRP                        0\n",
       "Outlet_Identifier               0\n",
       "Outlet_Establishment_Year       0\n",
       "Outlet_Size                  1606\n",
       "Outlet_Location_Type            0\n",
       "Outlet_Type                     0\n",
       "dtype: int64"
      ]
     },
     "execution_count": 7,
     "metadata": {},
     "output_type": "execute_result"
    }
   ],
   "source": [
    "test.isnull().sum()"
   ]
  },
  {
   "cell_type": "markdown",
   "id": "4026b93b",
   "metadata": {},
   "source": [
    "#### handling Item_Weight\n",
    "* if the Item_Weight is present atleast once we can use that else will figure out what to do by observing"
   ]
  },
  {
   "cell_type": "code",
   "execution_count": 8,
   "id": "102e94e8",
   "metadata": {},
   "outputs": [
    {
     "name": "stdout",
     "output_type": "stream",
     "text": [
      "% of missing values in train before 17.165317376510618\n",
      "% of missing values in train after filling known weights 0.04693183151472486\n"
     ]
    }
   ],
   "source": [
    "avg_item_weight = train.pivot_table(index = \"Item_Identifier\",values=\"Item_Weight\",dropna=False)\n",
    "print(\"% of missing values in train before\",(train[\"Item_Weight\"].isna().mean())*100)\n",
    "miss_bool = train[\"Item_Weight\"].isna()\n",
    "train.loc[miss_bool,\"Item_Weight\"] = train.loc[miss_bool,\"Item_Identifier\"].apply(lambda x:avg_item_weight.loc[x])\n",
    "print(\"% of missing values in train after filling known weights\",(train[\"Item_Weight\"].isna().mean())*100)"
   ]
  },
  {
   "cell_type": "code",
   "execution_count": 9,
   "id": "edd86678",
   "metadata": {},
   "outputs": [
    {
     "name": "stdout",
     "output_type": "stream",
     "text": [
      "skewness 0.07031548547062269\n"
     ]
    },
    {
     "data": {
      "image/png": "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\n",
      "text/plain": [
       "<Figure size 504x216 with 2 Axes>"
      ]
     },
     "metadata": {
      "needs_background": "light"
     },
     "output_type": "display_data"
    }
   ],
   "source": [
    "plt.figure(figsize =(7,3))\n",
    "plt.subplot(1,2,1)\n",
    "sns.boxplot(train[\"Item_Weight\"])\n",
    "#plt.show()\n",
    "plt.subplot(1,2,2)\n",
    "sns.distplot(train[\"Item_Weight\"])\n",
    "print(\"skewness\",train[\"Item_Weight\"].skew())"
   ]
  },
  {
   "cell_type": "markdown",
   "id": "c033bdbf",
   "metadata": {},
   "source": [
    "* we can observe there are no outliers and the distribution is normal \n",
    "* Item_Weight is MCAR(because Item_Weight is not dependent on any other feature or itself we hvae observed in EDA)\n",
    "* so lets replace the remaining missing value with mean"
   ]
  },
  {
   "cell_type": "code",
   "execution_count": 10,
   "id": "7156b626",
   "metadata": {},
   "outputs": [
    {
     "name": "stdout",
     "output_type": "stream",
     "text": [
      "% of missing values before 0.04693183151472486\n",
      "% of missing values after 0.0\n"
     ]
    }
   ],
   "source": [
    "print(\"% of missing values before\",(train[\"Item_Weight\"].isna().mean())*100)\n",
    "train[\"Item_Weight\"] = train[\"Item_Weight\"].fillna(train[\"Item_Weight\"].mean())\n",
    "print(\"% of missing values after\",(train[\"Item_Weight\"].isna().mean())*100)"
   ]
  },
  {
   "cell_type": "code",
   "execution_count": 11,
   "id": "92539273",
   "metadata": {},
   "outputs": [
    {
     "data": {
      "text/plain": [
       "Item_Identifier                 0\n",
       "Item_Weight                     0\n",
       "Item_Fat_Content                0\n",
       "Item_Visibility                 0\n",
       "Item_Type                       0\n",
       "Item_MRP                        0\n",
       "Outlet_Identifier               0\n",
       "Outlet_Establishment_Year       0\n",
       "Outlet_Size                  2410\n",
       "Outlet_Location_Type            0\n",
       "Outlet_Type                     0\n",
       "Item_Outlet_Sales               0\n",
       "dtype: int64"
      ]
     },
     "execution_count": 11,
     "metadata": {},
     "output_type": "execute_result"
    }
   ],
   "source": [
    "train.isna().sum()"
   ]
  },
  {
   "cell_type": "markdown",
   "id": "ecf14e90",
   "metadata": {},
   "source": [
    "#### handling Outlet_Size"
   ]
  },
  {
   "cell_type": "code",
   "execution_count": 12,
   "id": "9c40902f",
   "metadata": {},
   "outputs": [
    {
     "name": "stdout",
     "output_type": "stream",
     "text": [
      "% of missing values before 28.27642848762173\n",
      "% of missing values after 0.0\n"
     ]
    }
   ],
   "source": [
    "#outlet size will depend on outlet type just think normally..super markets will be larger ..normal grocery stores will be smaller\n",
    "mode_outlet_type = train.groupby(\"Outlet_Type\")[\"Outlet_Size\"].agg(pd.Series.mode)\n",
    "print(\"% of missing values before\",(train[\"Outlet_Size\"].isna().mean())*100)\n",
    "miss_bool = train[\"Outlet_Size\"].isna()\n",
    "train.loc[miss_bool,\"Outlet_Size\"] = train.loc[miss_bool,\"Outlet_Type\"].apply(lambda x:mode_outlet_type.loc[x])\n",
    "print(\"% of missing values after\",(train[\"Outlet_Size\"].isna().mean())*100)"
   ]
  },
  {
   "cell_type": "code",
   "execution_count": 13,
   "id": "6ece4b7a",
   "metadata": {
    "scrolled": true
   },
   "outputs": [
    {
     "data": {
      "text/plain": [
       "Item_Identifier              0\n",
       "Item_Weight                  0\n",
       "Item_Fat_Content             0\n",
       "Item_Visibility              0\n",
       "Item_Type                    0\n",
       "Item_MRP                     0\n",
       "Outlet_Identifier            0\n",
       "Outlet_Establishment_Year    0\n",
       "Outlet_Size                  0\n",
       "Outlet_Location_Type         0\n",
       "Outlet_Type                  0\n",
       "Item_Outlet_Sales            0\n",
       "dtype: int64"
      ]
     },
     "execution_count": 13,
     "metadata": {},
     "output_type": "execute_result"
    }
   ],
   "source": [
    "train.isna().sum()"
   ]
  },
  {
   "cell_type": "markdown",
   "id": "78e2c3a5",
   "metadata": {},
   "source": [
    "* now we have handled missing values in train data \n"
   ]
  },
  {
   "cell_type": "code",
   "execution_count": 14,
   "id": "f58d4121",
   "metadata": {},
   "outputs": [
    {
     "name": "stdout",
     "output_type": "stream",
     "text": [
      "% of missing values in test before 17.180073930646014\n",
      "% of missing values in test after filling with known weights 0.0\n",
      "% of missing values in test after 0.0\n"
     ]
    }
   ],
   "source": [
    "# lets handle the missing values in test as well \n",
    "# handle Item_Weight of test data\n",
    "avg_item_weight = train.pivot_table(index = \"Item_Identifier\",values=\"Item_Weight\",dropna=False)\n",
    "print(\"% of missing values in test before\",(test[\"Item_Weight\"].isna().mean())*100)\n",
    "miss_bool = test[\"Item_Weight\"].isna()\n",
    "test.loc[miss_bool,\"Item_Weight\"] = test.loc[miss_bool,\"Item_Identifier\"].apply(lambda x:avg_item_weight.loc[x])\n",
    "print(\"% of missing values in test after filling with known weights\",(test[\"Item_Weight\"].isna().mean())*100)\n",
    "test[\"Item_Weight\"] = test[\"Item_Weight\"].fillna(train[\"Item_Weight\"].mean())\n",
    "print(\"% of missing values in test after\",(test[\"Item_Weight\"].isna().mean())*100)"
   ]
  },
  {
   "cell_type": "code",
   "execution_count": 15,
   "id": "6f664bab",
   "metadata": {},
   "outputs": [
    {
     "name": "stdout",
     "output_type": "stream",
     "text": [
      "% of missing values before 28.269670832599896\n",
      "% of missing values after 0.0\n"
     ]
    }
   ],
   "source": [
    "# handle Outlet_Size missing values of test data\n",
    "mode_outlet_type = train.groupby(\"Outlet_Type\")[\"Outlet_Size\"].agg(pd.Series.mode)\n",
    "print(\"% of missing values before\",(test[\"Outlet_Size\"].isna().mean())*100)\n",
    "miss_bool = test[\"Outlet_Size\"].isna()\n",
    "test.loc[miss_bool,\"Outlet_Size\"] = test.loc[miss_bool,\"Outlet_Type\"].apply(lambda x:mode_outlet_type.loc[x])\n",
    "print(\"% of missing values after\",(test[\"Outlet_Size\"].isna().mean())*100)"
   ]
  },
  {
   "cell_type": "code",
   "execution_count": 16,
   "id": "5dad34d9",
   "metadata": {},
   "outputs": [
    {
     "data": {
      "text/plain": [
       "Item_Identifier              0\n",
       "Item_Weight                  0\n",
       "Item_Fat_Content             0\n",
       "Item_Visibility              0\n",
       "Item_Type                    0\n",
       "Item_MRP                     0\n",
       "Outlet_Identifier            0\n",
       "Outlet_Establishment_Year    0\n",
       "Outlet_Size                  0\n",
       "Outlet_Location_Type         0\n",
       "Outlet_Type                  0\n",
       "dtype: int64"
      ]
     },
     "execution_count": 16,
     "metadata": {},
     "output_type": "execute_result"
    }
   ],
   "source": [
    "test.isna().sum()"
   ]
  },
  {
   "cell_type": "markdown",
   "id": "f0175f0d",
   "metadata": {},
   "source": [
    "### Therfore we have treated missing values in train and test data"
   ]
  },
  {
   "cell_type": "markdown",
   "id": "70f96ee3",
   "metadata": {},
   "source": [
    "### in EDA we have observed some nuances in the data\n",
    "\n",
    "* there are different categories in  Item_Types and some do not have substantial numbers\n",
    "* some category names are different in Item_Fat_Content\n",
    "* Item_Visibility being 0 does not make sense\n",
    "* Outlet_establishment_year .. year number doesnot make sense ...number of years make sense"
   ]
  },
  {
   "cell_type": "code",
   "execution_count": 17,
   "id": "1cfbc05e",
   "metadata": {},
   "outputs": [
    {
     "data": {
      "text/plain": [
       "Fruits and Vegetables    1232\n",
       "Snack Foods              1200\n",
       "Household                 910\n",
       "Frozen Foods              856\n",
       "Dairy                     682\n",
       "Canned                    649\n",
       "Baking Goods              648\n",
       "Health and Hygiene        520\n",
       "Soft Drinks               445\n",
       "Meat                      425\n",
       "Breads                    251\n",
       "Hard Drinks               214\n",
       "Others                    169\n",
       "Starchy Foods             148\n",
       "Breakfast                 110\n",
       "Seafood                    64\n",
       "Name: Item_Type, dtype: int64"
      ]
     },
     "execution_count": 17,
     "metadata": {},
     "output_type": "execute_result"
    }
   ],
   "source": [
    "train[\"Item_Type\"].value_counts()"
   ]
  },
  {
   "cell_type": "markdown",
   "id": "3253c6c6",
   "metadata": {},
   "source": [
    "* Item_Type has 16 categories ... and some do not have substantial numbers....so it would be a good idea combine them\n",
    "### how to combine?\n",
    "1. we can manually figure out and gourp the Item_Type to different categories\n",
    "2. But there is a catch here....Item Identifierstarts with either FD/DR/NC \n",
    "        1. FD === FOOD\n",
    "        2. DR === DRINKS\n",
    "        3. NC=== NON CONSUMABLES\n",
    "      so using these we can create a neew category\n"
   ]
  },
  {
   "cell_type": "code",
   "execution_count": 18,
   "id": "1d39e2a6",
   "metadata": {},
   "outputs": [],
   "source": [
    "train[\"Item_Type_Combined\"] = train[\"Item_Identifier\"].str[0:2]\n",
    "train[\"Item_Type_Combined\"] = train[\"Item_Type_Combined\"].map({'FD':'Food','DR':'Drinks','NC':'Non-Consumable'})"
   ]
  },
  {
   "cell_type": "code",
   "execution_count": 19,
   "id": "ac3449e1",
   "metadata": {},
   "outputs": [],
   "source": [
    "test[\"Item_Type_Combined\"] = test[\"Item_Identifier\"].str[0:2]\n",
    "test[\"Item_Type_Combined\"] = test[\"Item_Type_Combined\"].map({'FD':'Food','DR':'Drinks','NC':'Non-Consumable'})"
   ]
  },
  {
   "cell_type": "code",
   "execution_count": 20,
   "id": "76169a7f",
   "metadata": {},
   "outputs": [],
   "source": [
    "#lets store the dropped columns...just for safety\n",
    "dropped_columns_df = train[\"Item_Type\"]"
   ]
  },
  {
   "cell_type": "code",
   "execution_count": 21,
   "id": "1b9b3bfe",
   "metadata": {},
   "outputs": [],
   "source": [
    "# lets drop Item_Type both in train and test data\n",
    "train.drop([\"Item_Type\"],axis=1,inplace=True)\n",
    "test.drop([\"Item_Type\"],axis=1,inplace=True)"
   ]
  },
  {
   "cell_type": "markdown",
   "id": "6aedfe87",
   "metadata": {},
   "source": [
    "* some data cleaning is required in Item_Fat_Content....we have observed in EDA...lets do it\n",
    "* and Non Consumable having Fat Content is not right..so lets make Fat content for NC as non-edible"
   ]
  },
  {
   "cell_type": "code",
   "execution_count": 22,
   "id": "17d192c3",
   "metadata": {},
   "outputs": [
    {
     "name": "stdout",
     "output_type": "stream",
     "text": [
      "unique categories before  ['Low Fat', 'Regular', 'low fat', 'LF', 'reg']\n",
      "unique categories after  ['Low Fat', 'Regular']\n"
     ]
    }
   ],
   "source": [
    "# train data\n",
    "print(\"unique categories before \",train[\"Item_Fat_Content\"].unique().tolist())\n",
    "train[\"Item_Fat_Content\"]=train[\"Item_Fat_Content\"].replace({\"low fat\":\"Low Fat\",\"LF\":\"Low Fat\",\"reg\":\"Regular\"})\n",
    "print(\"unique categories after \",train[\"Item_Fat_Content\"].unique().tolist())"
   ]
  },
  {
   "cell_type": "code",
   "execution_count": 23,
   "id": "cdee4281",
   "metadata": {},
   "outputs": [],
   "source": [
    "# test data\n",
    "test[\"Item_Fat_Content\"]=test[\"Item_Fat_Content\"].replace({\"low fat\":\"Low Fat\",\"LF\":\"Low Fat\",\"reg\":\"Regular\"})"
   ]
  },
  {
   "cell_type": "code",
   "execution_count": 24,
   "id": "4cf0183b",
   "metadata": {},
   "outputs": [],
   "source": [
    "train.loc[train[\"Item_Type_Combined\"]==\"Non-Consumable\",\"Item_Fat_Content\"]=\"Non-Edible\""
   ]
  },
  {
   "cell_type": "code",
   "execution_count": 25,
   "id": "e07b9138",
   "metadata": {},
   "outputs": [],
   "source": [
    "test.loc[test[\"Item_Type_Combined\"]==\"Non-Consumable\",\"Item_Fat_Content\"]=\"Non-Edible\""
   ]
  },
  {
   "cell_type": "markdown",
   "id": "d9d7768a",
   "metadata": {},
   "source": [
    "* Item Visibility being 0 does not make sense so lets replace the 0's in Item Visibility"
   ]
  },
  {
   "cell_type": "code",
   "execution_count": 26,
   "id": "c899c030",
   "metadata": {},
   "outputs": [
    {
     "data": {
      "text/plain": [
       "<AxesSubplot:xlabel='Item_Visibility'>"
      ]
     },
     "execution_count": 26,
     "metadata": {},
     "output_type": "execute_result"
    },
    {
     "data": {
      "image/png": "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\n",
      "text/plain": [
       "<Figure size 432x288 with 1 Axes>"
      ]
     },
     "metadata": {
      "needs_background": "light"
     },
     "output_type": "display_data"
    }
   ],
   "source": [
    "sns.boxplot(train[\"Item_Visibility\"])"
   ]
  },
  {
   "cell_type": "code",
   "execution_count": 27,
   "id": "2f31cb0f",
   "metadata": {},
   "outputs": [],
   "source": [
    "#Impute 0 values with median visibility as there are outliers:\n",
    "train.loc[train['Item_Visibility'] == 0,\"Item_Visibility\"]=train[\"Item_Visibility\"].median()"
   ]
  },
  {
   "cell_type": "code",
   "execution_count": 28,
   "id": "8fbbdd24",
   "metadata": {},
   "outputs": [],
   "source": [
    "test.loc[test['Item_Visibility'] == 0,\"Item_Visibility\"]=train[\"Item_Visibility\"].median()"
   ]
  },
  {
   "cell_type": "markdown",
   "id": "418a599b",
   "metadata": {},
   "source": [
    "#### some products will have more item visibility than others.It is obvious so lets not remove the outliers"
   ]
  },
  {
   "cell_type": "code",
   "execution_count": 29,
   "id": "38e1718a",
   "metadata": {},
   "outputs": [
    {
     "data": {
      "text/html": [
       "<div>\n",
       "<style scoped>\n",
       "    .dataframe tbody tr th:only-of-type {\n",
       "        vertical-align: middle;\n",
       "    }\n",
       "\n",
       "    .dataframe tbody tr th {\n",
       "        vertical-align: top;\n",
       "    }\n",
       "\n",
       "    .dataframe thead th {\n",
       "        text-align: right;\n",
       "    }\n",
       "</style>\n",
       "<table border=\"1\" class=\"dataframe\">\n",
       "  <thead>\n",
       "    <tr style=\"text-align: right;\">\n",
       "      <th></th>\n",
       "      <th>Item_Identifier</th>\n",
       "      <th>Item_Weight</th>\n",
       "      <th>Item_Fat_Content</th>\n",
       "      <th>Item_Visibility</th>\n",
       "      <th>Item_MRP</th>\n",
       "      <th>Outlet_Identifier</th>\n",
       "      <th>Outlet_Establishment_Year</th>\n",
       "      <th>Outlet_Size</th>\n",
       "      <th>Outlet_Location_Type</th>\n",
       "      <th>Outlet_Type</th>\n",
       "      <th>Item_Outlet_Sales</th>\n",
       "      <th>Item_Type_Combined</th>\n",
       "    </tr>\n",
       "  </thead>\n",
       "  <tbody>\n",
       "    <tr>\n",
       "      <th>0</th>\n",
       "      <td>FDA15</td>\n",
       "      <td>9.30</td>\n",
       "      <td>Low Fat</td>\n",
       "      <td>0.016047</td>\n",
       "      <td>249.8092</td>\n",
       "      <td>OUT049</td>\n",
       "      <td>1999</td>\n",
       "      <td>Medium</td>\n",
       "      <td>Tier 1</td>\n",
       "      <td>Supermarket Type1</td>\n",
       "      <td>3735.1380</td>\n",
       "      <td>Food</td>\n",
       "    </tr>\n",
       "    <tr>\n",
       "      <th>1</th>\n",
       "      <td>DRC01</td>\n",
       "      <td>5.92</td>\n",
       "      <td>Regular</td>\n",
       "      <td>0.019278</td>\n",
       "      <td>48.2692</td>\n",
       "      <td>OUT018</td>\n",
       "      <td>2009</td>\n",
       "      <td>Medium</td>\n",
       "      <td>Tier 3</td>\n",
       "      <td>Supermarket Type2</td>\n",
       "      <td>443.4228</td>\n",
       "      <td>Drinks</td>\n",
       "    </tr>\n",
       "    <tr>\n",
       "      <th>2</th>\n",
       "      <td>FDN15</td>\n",
       "      <td>17.50</td>\n",
       "      <td>Low Fat</td>\n",
       "      <td>0.016760</td>\n",
       "      <td>141.6180</td>\n",
       "      <td>OUT049</td>\n",
       "      <td>1999</td>\n",
       "      <td>Medium</td>\n",
       "      <td>Tier 1</td>\n",
       "      <td>Supermarket Type1</td>\n",
       "      <td>2097.2700</td>\n",
       "      <td>Food</td>\n",
       "    </tr>\n",
       "  </tbody>\n",
       "</table>\n",
       "</div>"
      ],
      "text/plain": [
       "  Item_Identifier  Item_Weight Item_Fat_Content  Item_Visibility  Item_MRP  \\\n",
       "0           FDA15         9.30          Low Fat         0.016047  249.8092   \n",
       "1           DRC01         5.92          Regular         0.019278   48.2692   \n",
       "2           FDN15        17.50          Low Fat         0.016760  141.6180   \n",
       "\n",
       "  Outlet_Identifier  Outlet_Establishment_Year Outlet_Size  \\\n",
       "0            OUT049                       1999      Medium   \n",
       "1            OUT018                       2009      Medium   \n",
       "2            OUT049                       1999      Medium   \n",
       "\n",
       "  Outlet_Location_Type        Outlet_Type  Item_Outlet_Sales  \\\n",
       "0               Tier 1  Supermarket Type1          3735.1380   \n",
       "1               Tier 3  Supermarket Type2           443.4228   \n",
       "2               Tier 1  Supermarket Type1          2097.2700   \n",
       "\n",
       "  Item_Type_Combined  \n",
       "0               Food  \n",
       "1             Drinks  \n",
       "2               Food  "
      ]
     },
     "execution_count": 29,
     "metadata": {},
     "output_type": "execute_result"
    }
   ],
   "source": [
    "train.head(3)"
   ]
  },
  {
   "cell_type": "markdown",
   "id": "3b81bcc8",
   "metadata": {},
   "source": [
    "####  Determine the years of operation of a store\n",
    "* this varying from 1985 to 2009. The values might not be apt in this form. Rather, if we can convert them to how old the particular store is, it should have a better impact on sales.\n",
    "* * how did I get 2013? ---- in the porblem statement it is given"
   ]
  },
  {
   "cell_type": "code",
   "execution_count": 30,
   "id": "4254502a",
   "metadata": {},
   "outputs": [],
   "source": [
    "train[\"Outlet_Years\"] = 2013-train[\"Outlet_Establishment_Year\"]"
   ]
  },
  {
   "cell_type": "code",
   "execution_count": 31,
   "id": "ff8f4aa9",
   "metadata": {},
   "outputs": [],
   "source": [
    "test[\"Outlet_Years\"] = 2013-test[\"Outlet_Establishment_Year\"]"
   ]
  },
  {
   "cell_type": "code",
   "execution_count": 32,
   "id": "86e9ab1c",
   "metadata": {},
   "outputs": [
    {
     "data": {
      "text/plain": [
       "(8523, 2)"
      ]
     },
     "execution_count": 32,
     "metadata": {},
     "output_type": "execute_result"
    }
   ],
   "source": [
    "dropped_columns_df = pd.concat([dropped_columns_df,train[\"Outlet_Establishment_Year\"]],axis=1)\n",
    "dropped_columns_df.shape"
   ]
  },
  {
   "cell_type": "code",
   "execution_count": 33,
   "id": "74cb02c8",
   "metadata": {},
   "outputs": [],
   "source": [
    "# lets drop Outlet_Establishment_Year\n",
    "train.drop([\"Outlet_Establishment_Year\"],axis=1,inplace=True)\n",
    "test.drop([\"Outlet_Establishment_Year\"],axis=1,inplace=True)"
   ]
  },
  {
   "cell_type": "markdown",
   "id": "1dad9ecb",
   "metadata": {},
   "source": [
    "### Encoding\n",
    "* encode ordinal using ordinal encoding\n",
    "* encode nominal using one hot encoding"
   ]
  },
  {
   "cell_type": "code",
   "execution_count": 34,
   "id": "2cd11f64",
   "metadata": {
    "scrolled": true
   },
   "outputs": [
    {
     "data": {
      "text/html": [
       "<div>\n",
       "<style scoped>\n",
       "    .dataframe tbody tr th:only-of-type {\n",
       "        vertical-align: middle;\n",
       "    }\n",
       "\n",
       "    .dataframe tbody tr th {\n",
       "        vertical-align: top;\n",
       "    }\n",
       "\n",
       "    .dataframe thead th {\n",
       "        text-align: right;\n",
       "    }\n",
       "</style>\n",
       "<table border=\"1\" class=\"dataframe\">\n",
       "  <thead>\n",
       "    <tr style=\"text-align: right;\">\n",
       "      <th></th>\n",
       "      <th>Item_Identifier</th>\n",
       "      <th>Item_Weight</th>\n",
       "      <th>Item_Fat_Content</th>\n",
       "      <th>Item_Visibility</th>\n",
       "      <th>Item_MRP</th>\n",
       "      <th>Outlet_Identifier</th>\n",
       "      <th>Outlet_Size</th>\n",
       "      <th>Outlet_Location_Type</th>\n",
       "      <th>Outlet_Type</th>\n",
       "      <th>Item_Outlet_Sales</th>\n",
       "      <th>Item_Type_Combined</th>\n",
       "      <th>Outlet_Years</th>\n",
       "    </tr>\n",
       "  </thead>\n",
       "  <tbody>\n",
       "    <tr>\n",
       "      <th>0</th>\n",
       "      <td>FDA15</td>\n",
       "      <td>9.30</td>\n",
       "      <td>Low Fat</td>\n",
       "      <td>0.016047</td>\n",
       "      <td>249.8092</td>\n",
       "      <td>OUT049</td>\n",
       "      <td>Medium</td>\n",
       "      <td>Tier 1</td>\n",
       "      <td>Supermarket Type1</td>\n",
       "      <td>3735.1380</td>\n",
       "      <td>Food</td>\n",
       "      <td>14</td>\n",
       "    </tr>\n",
       "    <tr>\n",
       "      <th>1</th>\n",
       "      <td>DRC01</td>\n",
       "      <td>5.92</td>\n",
       "      <td>Regular</td>\n",
       "      <td>0.019278</td>\n",
       "      <td>48.2692</td>\n",
       "      <td>OUT018</td>\n",
       "      <td>Medium</td>\n",
       "      <td>Tier 3</td>\n",
       "      <td>Supermarket Type2</td>\n",
       "      <td>443.4228</td>\n",
       "      <td>Drinks</td>\n",
       "      <td>4</td>\n",
       "    </tr>\n",
       "    <tr>\n",
       "      <th>2</th>\n",
       "      <td>FDN15</td>\n",
       "      <td>17.50</td>\n",
       "      <td>Low Fat</td>\n",
       "      <td>0.016760</td>\n",
       "      <td>141.6180</td>\n",
       "      <td>OUT049</td>\n",
       "      <td>Medium</td>\n",
       "      <td>Tier 1</td>\n",
       "      <td>Supermarket Type1</td>\n",
       "      <td>2097.2700</td>\n",
       "      <td>Food</td>\n",
       "      <td>14</td>\n",
       "    </tr>\n",
       "  </tbody>\n",
       "</table>\n",
       "</div>"
      ],
      "text/plain": [
       "  Item_Identifier  Item_Weight Item_Fat_Content  Item_Visibility  Item_MRP  \\\n",
       "0           FDA15         9.30          Low Fat         0.016047  249.8092   \n",
       "1           DRC01         5.92          Regular         0.019278   48.2692   \n",
       "2           FDN15        17.50          Low Fat         0.016760  141.6180   \n",
       "\n",
       "  Outlet_Identifier Outlet_Size Outlet_Location_Type        Outlet_Type  \\\n",
       "0            OUT049      Medium               Tier 1  Supermarket Type1   \n",
       "1            OUT018      Medium               Tier 3  Supermarket Type2   \n",
       "2            OUT049      Medium               Tier 1  Supermarket Type1   \n",
       "\n",
       "   Item_Outlet_Sales Item_Type_Combined  Outlet_Years  \n",
       "0          3735.1380               Food            14  \n",
       "1           443.4228             Drinks             4  \n",
       "2          2097.2700               Food            14  "
      ]
     },
     "execution_count": 34,
     "metadata": {},
     "output_type": "execute_result"
    }
   ],
   "source": [
    "train.head(3)"
   ]
  },
  {
   "cell_type": "code",
   "execution_count": 35,
   "id": "b829d8a6",
   "metadata": {},
   "outputs": [
    {
     "data": {
      "text/plain": [
       "Outlet_Location_Type\n",
       "Tier 1    1876.909159\n",
       "Tier 2    2323.990559\n",
       "Tier 3    2279.627651\n",
       "Name: Item_Outlet_Sales, dtype: float64"
      ]
     },
     "execution_count": 35,
     "metadata": {},
     "output_type": "execute_result"
    }
   ],
   "source": [
    "train.groupby(\"Outlet_Location_Type\")[\"Item_Outlet_Sales\"].mean()"
   ]
  },
  {
   "cell_type": "code",
   "execution_count": 36,
   "id": "f5060b58",
   "metadata": {},
   "outputs": [
    {
     "data": {
      "text/plain": [
       "Outlet_Type\n",
       "Grocery Store         339.828500\n",
       "Supermarket Type1    2316.181148\n",
       "Supermarket Type2    1995.498739\n",
       "Supermarket Type3    3694.038558\n",
       "Name: Item_Outlet_Sales, dtype: float64"
      ]
     },
     "execution_count": 36,
     "metadata": {},
     "output_type": "execute_result"
    }
   ],
   "source": [
    "train.groupby(\"Outlet_Type\")[\"Item_Outlet_Sales\"].mean()"
   ]
  },
  {
   "cell_type": "code",
   "execution_count": 37,
   "id": "e6d6972f",
   "metadata": {},
   "outputs": [
    {
     "data": {
      "text/plain": [
       "Outlet_Size\n",
       "High      2298.995256\n",
       "Medium    2681.603542\n",
       "Small     1867.182814\n",
       "Name: Item_Outlet_Sales, dtype: float64"
      ]
     },
     "execution_count": 37,
     "metadata": {},
     "output_type": "execute_result"
    }
   ],
   "source": [
    "train.groupby(\"Outlet_Size\")[\"Item_Outlet_Sales\"].mean()"
   ]
  },
  {
   "cell_type": "code",
   "execution_count": 38,
   "id": "0172d4b5",
   "metadata": {},
   "outputs": [],
   "source": [
    "# lets perform ordinal encoding with Outlet_type,Outlet_Location_type,Outlet_Size\n",
    "# we can ask the domain experte...for what rank we need to give for each category\n",
    "train[\"Outlet_Location_Type\"]=train[\"Outlet_Location_Type\"].map({\"Tier 1\":3,\"Tier 2\":2,\"Tier 3\":1})\n",
    "train[\"Outlet_Size\"]=train[\"Outlet_Size\"].map({\"Small\":1,\"Medium\":2,\"High\":3})\n",
    "train[\"Outlet_Type\"]=train[\"Outlet_Type\"].map({\"Grocery Store\":1,\"Supermarket Type1\":2,\"Supermarket Type2\":3,\"Supermarket Type3\":4})"
   ]
  },
  {
   "cell_type": "code",
   "execution_count": 39,
   "id": "64479724",
   "metadata": {},
   "outputs": [],
   "source": [
    "# lets perform ordinal encoding with Outlet_type,Outlet_Location_type,Outlet_Size\n",
    "# we can ask the domain experte...for what rank we need to give for each category\n",
    "test[\"Outlet_Location_Type\"]=test[\"Outlet_Location_Type\"].map({\"Tier 1\":3,\"Tier 2\":2,\"Tier 3\":1})\n",
    "test[\"Outlet_Size\"]=test[\"Outlet_Size\"].map({\"Small\":1,\"Medium\":2,\"High\":3})\n",
    "test[\"Outlet_Type\"]=test[\"Outlet_Type\"].map({\"Grocery Store\":1,\"Supermarket Type1\":2,\"Supermarket Type2\":3,\"Supermarket Type3\":4})"
   ]
  },
  {
   "cell_type": "code",
   "execution_count": 40,
   "id": "f4ecb549",
   "metadata": {},
   "outputs": [
    {
     "data": {
      "text/html": [
       "<div>\n",
       "<style scoped>\n",
       "    .dataframe tbody tr th:only-of-type {\n",
       "        vertical-align: middle;\n",
       "    }\n",
       "\n",
       "    .dataframe tbody tr th {\n",
       "        vertical-align: top;\n",
       "    }\n",
       "\n",
       "    .dataframe thead th {\n",
       "        text-align: right;\n",
       "    }\n",
       "</style>\n",
       "<table border=\"1\" class=\"dataframe\">\n",
       "  <thead>\n",
       "    <tr style=\"text-align: right;\">\n",
       "      <th></th>\n",
       "      <th>Item_Identifier</th>\n",
       "      <th>Item_Weight</th>\n",
       "      <th>Item_Fat_Content</th>\n",
       "      <th>Item_Visibility</th>\n",
       "      <th>Item_MRP</th>\n",
       "      <th>Outlet_Identifier</th>\n",
       "      <th>Outlet_Size</th>\n",
       "      <th>Outlet_Location_Type</th>\n",
       "      <th>Outlet_Type</th>\n",
       "      <th>Item_Outlet_Sales</th>\n",
       "      <th>Item_Type_Combined</th>\n",
       "      <th>Outlet_Years</th>\n",
       "    </tr>\n",
       "  </thead>\n",
       "  <tbody>\n",
       "    <tr>\n",
       "      <th>0</th>\n",
       "      <td>FDA15</td>\n",
       "      <td>9.30</td>\n",
       "      <td>Low Fat</td>\n",
       "      <td>0.016047</td>\n",
       "      <td>249.8092</td>\n",
       "      <td>OUT049</td>\n",
       "      <td>2</td>\n",
       "      <td>3</td>\n",
       "      <td>2</td>\n",
       "      <td>3735.1380</td>\n",
       "      <td>Food</td>\n",
       "      <td>14</td>\n",
       "    </tr>\n",
       "    <tr>\n",
       "      <th>1</th>\n",
       "      <td>DRC01</td>\n",
       "      <td>5.92</td>\n",
       "      <td>Regular</td>\n",
       "      <td>0.019278</td>\n",
       "      <td>48.2692</td>\n",
       "      <td>OUT018</td>\n",
       "      <td>2</td>\n",
       "      <td>1</td>\n",
       "      <td>3</td>\n",
       "      <td>443.4228</td>\n",
       "      <td>Drinks</td>\n",
       "      <td>4</td>\n",
       "    </tr>\n",
       "    <tr>\n",
       "      <th>2</th>\n",
       "      <td>FDN15</td>\n",
       "      <td>17.50</td>\n",
       "      <td>Low Fat</td>\n",
       "      <td>0.016760</td>\n",
       "      <td>141.6180</td>\n",
       "      <td>OUT049</td>\n",
       "      <td>2</td>\n",
       "      <td>3</td>\n",
       "      <td>2</td>\n",
       "      <td>2097.2700</td>\n",
       "      <td>Food</td>\n",
       "      <td>14</td>\n",
       "    </tr>\n",
       "  </tbody>\n",
       "</table>\n",
       "</div>"
      ],
      "text/plain": [
       "  Item_Identifier  Item_Weight Item_Fat_Content  Item_Visibility  Item_MRP  \\\n",
       "0           FDA15         9.30          Low Fat         0.016047  249.8092   \n",
       "1           DRC01         5.92          Regular         0.019278   48.2692   \n",
       "2           FDN15        17.50          Low Fat         0.016760  141.6180   \n",
       "\n",
       "  Outlet_Identifier  Outlet_Size  Outlet_Location_Type  Outlet_Type  \\\n",
       "0            OUT049            2                     3            2   \n",
       "1            OUT018            2                     1            3   \n",
       "2            OUT049            2                     3            2   \n",
       "\n",
       "   Item_Outlet_Sales Item_Type_Combined  Outlet_Years  \n",
       "0          3735.1380               Food            14  \n",
       "1           443.4228             Drinks             4  \n",
       "2          2097.2700               Food            14  "
      ]
     },
     "execution_count": 40,
     "metadata": {},
     "output_type": "execute_result"
    }
   ],
   "source": [
    "train.head(3)"
   ]
  },
  {
   "cell_type": "code",
   "execution_count": 41,
   "id": "c4dc5f52",
   "metadata": {},
   "outputs": [
    {
     "data": {
      "text/html": [
       "<div>\n",
       "<style scoped>\n",
       "    .dataframe tbody tr th:only-of-type {\n",
       "        vertical-align: middle;\n",
       "    }\n",
       "\n",
       "    .dataframe tbody tr th {\n",
       "        vertical-align: top;\n",
       "    }\n",
       "\n",
       "    .dataframe thead th {\n",
       "        text-align: right;\n",
       "    }\n",
       "</style>\n",
       "<table border=\"1\" class=\"dataframe\">\n",
       "  <thead>\n",
       "    <tr style=\"text-align: right;\">\n",
       "      <th></th>\n",
       "      <th>Item_Identifier</th>\n",
       "      <th>Item_Weight</th>\n",
       "      <th>Item_Visibility</th>\n",
       "      <th>Item_MRP</th>\n",
       "      <th>Outlet_Identifier</th>\n",
       "      <th>Outlet_Size</th>\n",
       "      <th>Outlet_Location_Type</th>\n",
       "      <th>Outlet_Type</th>\n",
       "      <th>Item_Outlet_Sales</th>\n",
       "      <th>Outlet_Years</th>\n",
       "      <th>Item_Type_Combined_Food</th>\n",
       "      <th>Item_Type_Combined_Non-Consumable</th>\n",
       "      <th>Item_Fat_Content_Non-Edible</th>\n",
       "      <th>Item_Fat_Content_Regular</th>\n",
       "    </tr>\n",
       "  </thead>\n",
       "  <tbody>\n",
       "    <tr>\n",
       "      <th>0</th>\n",
       "      <td>FDA15</td>\n",
       "      <td>9.30</td>\n",
       "      <td>0.016047</td>\n",
       "      <td>249.8092</td>\n",
       "      <td>OUT049</td>\n",
       "      <td>2</td>\n",
       "      <td>3</td>\n",
       "      <td>2</td>\n",
       "      <td>3735.1380</td>\n",
       "      <td>14</td>\n",
       "      <td>1</td>\n",
       "      <td>0</td>\n",
       "      <td>0</td>\n",
       "      <td>0</td>\n",
       "    </tr>\n",
       "    <tr>\n",
       "      <th>1</th>\n",
       "      <td>DRC01</td>\n",
       "      <td>5.92</td>\n",
       "      <td>0.019278</td>\n",
       "      <td>48.2692</td>\n",
       "      <td>OUT018</td>\n",
       "      <td>2</td>\n",
       "      <td>1</td>\n",
       "      <td>3</td>\n",
       "      <td>443.4228</td>\n",
       "      <td>4</td>\n",
       "      <td>0</td>\n",
       "      <td>0</td>\n",
       "      <td>0</td>\n",
       "      <td>1</td>\n",
       "    </tr>\n",
       "    <tr>\n",
       "      <th>2</th>\n",
       "      <td>FDN15</td>\n",
       "      <td>17.50</td>\n",
       "      <td>0.016760</td>\n",
       "      <td>141.6180</td>\n",
       "      <td>OUT049</td>\n",
       "      <td>2</td>\n",
       "      <td>3</td>\n",
       "      <td>2</td>\n",
       "      <td>2097.2700</td>\n",
       "      <td>14</td>\n",
       "      <td>1</td>\n",
       "      <td>0</td>\n",
       "      <td>0</td>\n",
       "      <td>0</td>\n",
       "    </tr>\n",
       "    <tr>\n",
       "      <th>3</th>\n",
       "      <td>FDX07</td>\n",
       "      <td>19.20</td>\n",
       "      <td>0.053931</td>\n",
       "      <td>182.0950</td>\n",
       "      <td>OUT010</td>\n",
       "      <td>1</td>\n",
       "      <td>1</td>\n",
       "      <td>1</td>\n",
       "      <td>732.3800</td>\n",
       "      <td>15</td>\n",
       "      <td>1</td>\n",
       "      <td>0</td>\n",
       "      <td>0</td>\n",
       "      <td>1</td>\n",
       "    </tr>\n",
       "    <tr>\n",
       "      <th>4</th>\n",
       "      <td>NCD19</td>\n",
       "      <td>8.93</td>\n",
       "      <td>0.053931</td>\n",
       "      <td>53.8614</td>\n",
       "      <td>OUT013</td>\n",
       "      <td>3</td>\n",
       "      <td>1</td>\n",
       "      <td>2</td>\n",
       "      <td>994.7052</td>\n",
       "      <td>26</td>\n",
       "      <td>0</td>\n",
       "      <td>1</td>\n",
       "      <td>1</td>\n",
       "      <td>0</td>\n",
       "    </tr>\n",
       "  </tbody>\n",
       "</table>\n",
       "</div>"
      ],
      "text/plain": [
       "  Item_Identifier  Item_Weight  Item_Visibility  Item_MRP Outlet_Identifier  \\\n",
       "0           FDA15         9.30         0.016047  249.8092            OUT049   \n",
       "1           DRC01         5.92         0.019278   48.2692            OUT018   \n",
       "2           FDN15        17.50         0.016760  141.6180            OUT049   \n",
       "3           FDX07        19.20         0.053931  182.0950            OUT010   \n",
       "4           NCD19         8.93         0.053931   53.8614            OUT013   \n",
       "\n",
       "   Outlet_Size  Outlet_Location_Type  Outlet_Type  Item_Outlet_Sales  \\\n",
       "0            2                     3            2          3735.1380   \n",
       "1            2                     1            3           443.4228   \n",
       "2            2                     3            2          2097.2700   \n",
       "3            1                     1            1           732.3800   \n",
       "4            3                     1            2           994.7052   \n",
       "\n",
       "   Outlet_Years  Item_Type_Combined_Food  Item_Type_Combined_Non-Consumable  \\\n",
       "0            14                        1                                  0   \n",
       "1             4                        0                                  0   \n",
       "2            14                        1                                  0   \n",
       "3            15                        1                                  0   \n",
       "4            26                        0                                  1   \n",
       "\n",
       "   Item_Fat_Content_Non-Edible  Item_Fat_Content_Regular  \n",
       "0                            0                         0  \n",
       "1                            0                         1  \n",
       "2                            0                         0  \n",
       "3                            0                         1  \n",
       "4                            1                         0  "
      ]
     },
     "execution_count": 41,
     "metadata": {},
     "output_type": "execute_result"
    }
   ],
   "source": [
    "#lets perform one hot encoding for nominal features\n",
    "dummies_df = pd.get_dummies(train[[\"Item_Type_Combined\",\"Item_Fat_Content\"]],drop_first=True)\n",
    "train = train.drop([\"Item_Type_Combined\",\"Item_Fat_Content\"],axis=1)\n",
    "train = pd.concat([train,dummies_df],axis=1)\n",
    "train.head()"
   ]
  },
  {
   "cell_type": "code",
   "execution_count": 42,
   "id": "45022d34",
   "metadata": {},
   "outputs": [
    {
     "data": {
      "text/html": [
       "<div>\n",
       "<style scoped>\n",
       "    .dataframe tbody tr th:only-of-type {\n",
       "        vertical-align: middle;\n",
       "    }\n",
       "\n",
       "    .dataframe tbody tr th {\n",
       "        vertical-align: top;\n",
       "    }\n",
       "\n",
       "    .dataframe thead th {\n",
       "        text-align: right;\n",
       "    }\n",
       "</style>\n",
       "<table border=\"1\" class=\"dataframe\">\n",
       "  <thead>\n",
       "    <tr style=\"text-align: right;\">\n",
       "      <th></th>\n",
       "      <th>Item_Identifier</th>\n",
       "      <th>Item_Weight</th>\n",
       "      <th>Item_Visibility</th>\n",
       "      <th>Item_MRP</th>\n",
       "      <th>Outlet_Identifier</th>\n",
       "      <th>Outlet_Size</th>\n",
       "      <th>Outlet_Location_Type</th>\n",
       "      <th>Outlet_Type</th>\n",
       "      <th>Outlet_Years</th>\n",
       "      <th>Item_Type_Combined_Food</th>\n",
       "      <th>Item_Type_Combined_Non-Consumable</th>\n",
       "      <th>Item_Fat_Content_Non-Edible</th>\n",
       "      <th>Item_Fat_Content_Regular</th>\n",
       "    </tr>\n",
       "  </thead>\n",
       "  <tbody>\n",
       "    <tr>\n",
       "      <th>0</th>\n",
       "      <td>FDW58</td>\n",
       "      <td>20.750</td>\n",
       "      <td>0.007565</td>\n",
       "      <td>107.8622</td>\n",
       "      <td>OUT049</td>\n",
       "      <td>2</td>\n",
       "      <td>3</td>\n",
       "      <td>2</td>\n",
       "      <td>14</td>\n",
       "      <td>1</td>\n",
       "      <td>0</td>\n",
       "      <td>0</td>\n",
       "      <td>0</td>\n",
       "    </tr>\n",
       "    <tr>\n",
       "      <th>1</th>\n",
       "      <td>FDW14</td>\n",
       "      <td>8.300</td>\n",
       "      <td>0.038428</td>\n",
       "      <td>87.3198</td>\n",
       "      <td>OUT017</td>\n",
       "      <td>1</td>\n",
       "      <td>2</td>\n",
       "      <td>2</td>\n",
       "      <td>6</td>\n",
       "      <td>1</td>\n",
       "      <td>0</td>\n",
       "      <td>0</td>\n",
       "      <td>1</td>\n",
       "    </tr>\n",
       "    <tr>\n",
       "      <th>2</th>\n",
       "      <td>NCN55</td>\n",
       "      <td>14.600</td>\n",
       "      <td>0.099575</td>\n",
       "      <td>241.7538</td>\n",
       "      <td>OUT010</td>\n",
       "      <td>1</td>\n",
       "      <td>1</td>\n",
       "      <td>1</td>\n",
       "      <td>15</td>\n",
       "      <td>0</td>\n",
       "      <td>1</td>\n",
       "      <td>1</td>\n",
       "      <td>0</td>\n",
       "    </tr>\n",
       "    <tr>\n",
       "      <th>3</th>\n",
       "      <td>FDQ58</td>\n",
       "      <td>7.315</td>\n",
       "      <td>0.015388</td>\n",
       "      <td>155.0340</td>\n",
       "      <td>OUT017</td>\n",
       "      <td>1</td>\n",
       "      <td>2</td>\n",
       "      <td>2</td>\n",
       "      <td>6</td>\n",
       "      <td>1</td>\n",
       "      <td>0</td>\n",
       "      <td>0</td>\n",
       "      <td>0</td>\n",
       "    </tr>\n",
       "    <tr>\n",
       "      <th>4</th>\n",
       "      <td>FDY38</td>\n",
       "      <td>13.600</td>\n",
       "      <td>0.118599</td>\n",
       "      <td>234.2300</td>\n",
       "      <td>OUT027</td>\n",
       "      <td>2</td>\n",
       "      <td>1</td>\n",
       "      <td>4</td>\n",
       "      <td>28</td>\n",
       "      <td>1</td>\n",
       "      <td>0</td>\n",
       "      <td>0</td>\n",
       "      <td>1</td>\n",
       "    </tr>\n",
       "  </tbody>\n",
       "</table>\n",
       "</div>"
      ],
      "text/plain": [
       "  Item_Identifier  Item_Weight  Item_Visibility  Item_MRP Outlet_Identifier  \\\n",
       "0           FDW58       20.750         0.007565  107.8622            OUT049   \n",
       "1           FDW14        8.300         0.038428   87.3198            OUT017   \n",
       "2           NCN55       14.600         0.099575  241.7538            OUT010   \n",
       "3           FDQ58        7.315         0.015388  155.0340            OUT017   \n",
       "4           FDY38       13.600         0.118599  234.2300            OUT027   \n",
       "\n",
       "   Outlet_Size  Outlet_Location_Type  Outlet_Type  Outlet_Years  \\\n",
       "0            2                     3            2            14   \n",
       "1            1                     2            2             6   \n",
       "2            1                     1            1            15   \n",
       "3            1                     2            2             6   \n",
       "4            2                     1            4            28   \n",
       "\n",
       "   Item_Type_Combined_Food  Item_Type_Combined_Non-Consumable  \\\n",
       "0                        1                                  0   \n",
       "1                        1                                  0   \n",
       "2                        0                                  1   \n",
       "3                        1                                  0   \n",
       "4                        1                                  0   \n",
       "\n",
       "   Item_Fat_Content_Non-Edible  Item_Fat_Content_Regular  \n",
       "0                            0                         0  \n",
       "1                            0                         1  \n",
       "2                            1                         0  \n",
       "3                            0                         0  \n",
       "4                            0                         1  "
      ]
     },
     "execution_count": 42,
     "metadata": {},
     "output_type": "execute_result"
    }
   ],
   "source": [
    "#lets perform one hot encoding for nominal features\n",
    "dummies_df = pd.get_dummies(test[[\"Item_Type_Combined\",\"Item_Fat_Content\"]],drop_first=True)\n",
    "test = test.drop([\"Item_Type_Combined\",\"Item_Fat_Content\"],axis=1)\n",
    "test = pd.concat([test,dummies_df],axis=1)\n",
    "test.head()"
   ]
  },
  {
   "cell_type": "code",
   "execution_count": 162,
   "id": "c6958ef3",
   "metadata": {},
   "outputs": [],
   "source": [
    "#train.to_csv(\"train_fe.csv\",index=False)\n",
    "#test.to_csv(\"test_fe.csv\",index=False)"
   ]
  },
  {
   "cell_type": "code",
   "execution_count": null,
   "id": "597be698",
   "metadata": {},
   "outputs": [],
   "source": []
  },
  {
   "cell_type": "markdown",
   "id": "abcbe069",
   "metadata": {},
   "source": [
    "### MODEL BUILDING"
   ]
  },
  {
   "cell_type": "code",
   "execution_count": 57,
   "id": "eb1e17f6",
   "metadata": {},
   "outputs": [],
   "source": [
    "def submission_df(predicted_test):\n",
    "    submission = test_orig[[\"Item_Identifier\",\"Outlet_Identifier\"]]\n",
    "    submission[\"Item_Outlet_Sales\"]=predicted_test\n",
    "    return submission"
   ]
  },
  {
   "cell_type": "code",
   "execution_count": 98,
   "id": "4daf318e",
   "metadata": {},
   "outputs": [],
   "source": [
    "from sklearn.model_selection import KFold,cross_val_score\n",
    "import numpy as np\n",
    "from sklearn.metrics import mean_squared_error\n",
    "\n",
    "def apply_model(model,train,test,target_feature,k_splits):\n",
    "   \n",
    "    #define predictor and response variables\n",
    "    x_train=train.drop([target_feature],axis=1)\n",
    "    y_train = train[[target_feature]]\n",
    "\n",
    "    model.fit(x_train,y_train)\n",
    "    y_train_pred = model.predict(x_train)\n",
    "   \n",
    "    #define cross-validation method to use\n",
    "    cv = KFold(n_splits=k_splits, random_state=1, shuffle=True) \n",
    "    #get the mean square error cv scores\n",
    "    scores = cross_val_score(model, x_train, y_train, scoring='neg_mean_squared_error',cv=cv, n_jobs=-1)\n",
    "    # get the square root of mean square error cv scores\n",
    "    scores = np.sqrt(np.abs(scores))\n",
    "    \n",
    "    print(f\"Training RMSE {np.sqrt(mean_squared_error(y_train,y_train_pred))}\")\n",
    "    print(f\"CV  mean = {np.mean(scores)} max = {np.max(scores)} min = {np.min(scores)} std = {np.std(scores)}\")\n",
    "    \n",
    "    y_test_pred = model.predict(test)\n",
    "   \n",
    "    print(\"Number of negative values predicted for training: {},test :{}\".format((y_train_pred<0).sum(),(y_test_pred<0).sum()))\n",
    "    \n",
    "    final_pred_df = submission_df(y_test_pred)\n",
    "   \n",
    "    return final_pred_df"
   ]
  },
  {
   "cell_type": "code",
   "execution_count": 103,
   "id": "276c1779",
   "metadata": {},
   "outputs": [
    {
     "name": "stdout",
     "output_type": "stream",
     "text": [
      "Linear Regression\n",
      "Training RMSE 1204.449018370494\n",
      "CV  mean = 1206.1358553913444 max = 1230.3149358352537 min = 1149.8500723531236 std = 28.64130732849697\n",
      "Number of negative values predicted for training: 223,test :153\n",
      "Decision Tree\n",
      "Training RMSE 0.0\n",
      "CV  mean = 1541.5129158918576 max = 1600.7076039535682 min = 1497.2986261037672 std = 35.47180607071012\n",
      "Number of negative values predicted for training: 0,test :0\n",
      "Random Forest\n",
      "Training RMSE 423.60407583152767\n",
      "CV  mean = 1131.0121558823507 max = 1169.434908778485 min = 1064.2317936233906 std = 37.72387945351788\n",
      "Number of negative values predicted for training: 0,test :0\n",
      "support vector\n",
      "Training RMSE 1513.305259672755\n",
      "CV  mean = 1537.790963824743 max = 1571.2306826689821 min = 1497.6959264643092 std = 25.388101366526424\n",
      "Number of negative values predicted for training: 0,test :0\n",
      "Knn\n",
      "Training RMSE 1011.0832332641634\n",
      "CV  mean = 1260.464229936999 max = 1304.556348549947 min = 1191.7095790093335 std = 41.92731819755589\n",
      "Number of negative values predicted for training: 0,test :0\n",
      "Ada Boost\n",
      "Training RMSE 1296.8264072787977\n",
      "CV  mean = 1203.13494392904 max = 1275.7563637919557 min = 1153.4471149972985 std = 41.64256467878224\n",
      "Number of negative values predicted for training: 0,test :0\n",
      "Gradient Boost\n",
      "Training RMSE 1035.0908697205218\n",
      "CV  mean = 1081.447615173359 max = 1117.3033952128535 min = 1010.8562504523462 std = 36.69030303605182\n",
      "Number of negative values predicted for training: 6,test :5\n",
      "xgb\n",
      "Training RMSE 711.9920295518928\n",
      "CV  mean = 1159.60877605948 max = 1199.9321617531295 min = 1088.8961589276746 std = 38.40269487895007\n",
      "Number of negative values predicted for training: 11,test :46\n"
     ]
    }
   ],
   "source": [
    "from sklearn.linear_model import LinearRegression\n",
    "from sklearn.tree import DecisionTreeRegressor\n",
    "from sklearn.ensemble import RandomForestRegressor\n",
    "from sklearn import svm\n",
    "from sklearn.neighbors import KNeighborsRegressor\n",
    "from sklearn.ensemble import AdaBoostRegressor\n",
    "from sklearn.ensemble import GradientBoostingRegressor\n",
    "from xgboost import XGBRegressor\n",
    "\n",
    "train_df = train.drop([\"Item_Identifier\",\"Outlet_Identifier\"],axis=1)\n",
    "test_df = test.drop([\"Item_Identifier\",\"Outlet_Identifier\"],axis=1)\n",
    "\n",
    "models={\"Linear Regression\":LinearRegression(),\"Decision Tree\":DecisionTreeRegressor(random_state=1),\"Random Forest\":RandomForestRegressor(random_state=1),\n",
    "       \"support vector\":svm.SVR(),\"Knn\":KNeighborsRegressor(),\"Ada Boost\":AdaBoostRegressor(random_state=1),\"Gradient Boost\":GradientBoostingRegressor(random_state=1),\n",
    "       \"xgb\":XGBRegressor(random_state=1)}\n",
    "df={\"Linear Regression\":None,\"Decision Tree\":None,\"Random Forest\":None,\n",
    "       \"support vector\":None,\"Knn\":None,\"Ada Boost\":None,\"Gradient Boost\":None,\"xgb\":None}\n",
    "\n",
    "for model in models.keys():\n",
    "    print(model)\n",
    "   \n",
    "    df[model] = apply_model(models[model],train_df,test_df,\"Item_Outlet_Sales\",5)\n",
    "    "
   ]
  },
  {
   "cell_type": "code",
   "execution_count": null,
   "id": "bc2f8a54",
   "metadata": {},
   "outputs": [],
   "source": []
  },
  {
   "cell_type": "code",
   "execution_count": 95,
   "id": "0b7074a1",
   "metadata": {},
   "outputs": [],
   "source": [
    "#df[\"Ada Boost\"].to_csv(\"AdaBoost.csv\",index=False)\n",
    "#Your score for this submission is : 1320.4819952534815."
   ]
  },
  {
   "cell_type": "code",
   "execution_count": 105,
   "id": "7d41fe10",
   "metadata": {},
   "outputs": [],
   "source": [
    "#df[\"Random Forest\"].to_csv(\"RandomForestReg.csv\",index=False)\n",
    "#Your score for this submission is : 1203.2739886043908."
   ]
  },
  {
   "cell_type": "code",
   "execution_count": null,
   "id": "379e2a82",
   "metadata": {},
   "outputs": [],
   "source": []
  },
  {
   "cell_type": "markdown",
   "id": "4614196f",
   "metadata": {},
   "source": [
    "#### Hyper parameter tuning for random forest only using random search cv"
   ]
  },
  {
   "cell_type": "code",
   "execution_count": 109,
   "id": "5e6683a5",
   "metadata": {},
   "outputs": [],
   "source": [
    "from sklearn.model_selection import RandomizedSearchCV\n",
    "class Tuning():\n",
    "    def random_search_cv(self,model,params,train,test,target_feature):\n",
    "        \n",
    "        #define predictor and response variables\n",
    "        x_train=train.drop([target_feature],axis=1)\n",
    "        y_train = train[[target_feature]]\n",
    "        \n",
    "        randomcv=RandomizedSearchCV(estimator = model,param_distributions = params,scoring= 'neg_root_mean_squared_error',n_iter = 100,cv = 3,verbose = 2,\n",
    "                               random_state=100,n_jobs=-1)\n",
    "        randomcv.fit(x_train,y_train)\n",
    "        print(randomcv.best_params_)\n",
    "        \n",
    "        #best_model = randomcv.best_estimator_\n",
    "        #best_model.fit(x_train,y_train)\n",
    "        #y_pred_test = best_model\n",
    "        print(\"best random score\" ,randomcv.best_score_)\n",
    "        return randomcv.best_estimator_\n",
    "    \n",
    "    \n",
    "    \n",
    "    def apply_model(self,model,train,test,target_feature,k_splits):\n",
    "   \n",
    "        #define predictor and response variables\n",
    "        x_train=train.drop([target_feature],axis=1)\n",
    "        y_train = train[[target_feature]]\n",
    "\n",
    "        model.fit(x_train,y_train)\n",
    "        y_train_pred = model.predict(x_train)\n",
    "   \n",
    "        #define cross-validation method to use\n",
    "        cv = KFold(n_splits=k_splits, random_state=1, shuffle=True) \n",
    "        #get the mean square error cv scores\n",
    "        scores = cross_val_score(model, x_train, y_train, scoring='neg_mean_squared_error',cv=cv, n_jobs=-1)\n",
    "        # get the square root of mean square error cv scores\n",
    "        scores = np.sqrt(np.abs(scores))\n",
    "    \n",
    "        print(f\"Training RMSE {np.sqrt(mean_squared_error(y_train,y_train_pred))}\")\n",
    "        print(f\"CV  mean = {np.mean(scores)} max = {np.max(scores)} min = {np.min(scores)} std = {np.std(scores)}\")\n",
    "    \n",
    "        y_test_pred = model.predict(test)\n",
    "   \n",
    "        print(\"Number of negative values predicted for training: {},test :{}\".format((y_train_pred<0).sum(),(y_test_pred<0).sum()))\n",
    "    \n",
    "        final_pred_df = submission_df(y_test_pred)\n",
    "   \n",
    "        return final_pred_df"
   ]
  },
  {
   "cell_type": "code",
   "execution_count": 110,
   "id": "c3b75fa3",
   "metadata": {},
   "outputs": [],
   "source": [
    "rf_params = {\"n_estimators\": [int(x) for x in np.linspace(1,100,10)],\n",
    "             \"criterion\" : [\"squared_error\", \"absolute_error\", \"poisson\"],\n",
    "            \"max_depth\" : [int(x) for x in np.linspace(1,100,10)],\n",
    "            \"min_samples_split\" : [int(x) for x in np.linspace(1,10,5)],\n",
    "             \"max_features\":[\"auto\",\"sqrt\",\"log2\"],\n",
    "            \"min_samples_leaf\":[int(x) for x in np.linspace(1,10,5)],\n",
    "            \"max_leaf_nodes\":[int(x) for x in np.linspace(1,10,5)],\n",
    "            \"max_samples\":[x for x in np.linspace(1,10,5)]}\n",
    "\n",
    "models_with_params = [(\"RandomForest\",RandomForestRegressor(random_state=1),rf_params)]"
   ]
  },
  {
   "cell_type": "code",
   "execution_count": 113,
   "id": "b5c43374",
   "metadata": {},
   "outputs": [
    {
     "name": "stdout",
     "output_type": "stream",
     "text": [
      "RandomForest\n",
      "Fitting 3 folds for each of 100 candidates, totalling 300 fits\n",
      "{'n_estimators': 23, 'min_samples_split': 3, 'min_samples_leaf': 5, 'max_samples': 1.0, 'max_leaf_nodes': 10, 'max_features': 'auto', 'max_depth': 78, 'criterion': 'squared_error'}\n",
      "best random score -1095.5339357577761\n",
      "RandomForestRegressor(max_depth=78, max_features='auto', max_leaf_nodes=10,\n",
      "                      max_samples=1.0, min_samples_leaf=5, min_samples_split=3,\n",
      "                      n_estimators=23)\n",
      "Training RMSE 1084.83974740417\n",
      "CV  mean = 1091.4579386530131 max = 1117.9601334295194 min = 1029.291388322594 std = 31.63306377696412\n",
      "Number of negative values predicted for training: 0,test :0\n"
     ]
    }
   ],
   "source": [
    "train_df = train.drop([\"Item_Identifier\",\"Outlet_Identifier\"],axis=1)\n",
    "test_df = test.drop([\"Item_Identifier\",\"Outlet_Identifier\"],axis=1)\n",
    "\n",
    "for model in models_with_params:\n",
    "    print(model[0])\n",
    "    tuning_obj = Tuning()\n",
    "    best_estimator = tuning_obj.random_search_cv(model[1],model[2],train_df,test_df,\"Item_Outlet_Sales\")\n",
    "    print(best_estimator)\n",
    "    df[\"RFWithTuning\"]=tuning_obj.apply_model(best_estimator,train_df,test_df,\"Item_Outlet_Sales\",5)"
   ]
  },
  {
   "cell_type": "code",
   "execution_count": 114,
   "id": "7b26c149",
   "metadata": {},
   "outputs": [],
   "source": [
    "#df[\"RFWithTuning\"].to_csv(\"RFWithTuning.csv\",index=False)\n",
    "#Your score for this submission is : 1163.6064833887165."
   ]
  },
  {
   "cell_type": "code",
   "execution_count": null,
   "id": "517c2322",
   "metadata": {},
   "outputs": [],
   "source": []
  },
  {
   "cell_type": "markdown",
   "id": "c9c2d2e0",
   "metadata": {},
   "source": [
    "### Hyper paramater tuning using random search cv and grid search cv"
   ]
  },
  {
   "cell_type": "code",
   "execution_count": 146,
   "id": "30e49afb",
   "metadata": {},
   "outputs": [],
   "source": [
    "from sklearn.model_selection import RandomizedSearchCV\n",
    "from sklearn.model_selection import GridSearchCV\n",
    "class Tuning():\n",
    "    def random_search_cv(self,model,params,train,test,target_feature):\n",
    "        \n",
    "        #define predictor and response variables\n",
    "        x_train=train.drop([target_feature],axis=1)\n",
    "        y_train = train[[target_feature]]\n",
    "        \n",
    "        randomcv=RandomizedSearchCV(estimator = model,param_distributions = params,scoring= 'neg_root_mean_squared_error',\n",
    "                                    n_iter = 100,cv = 3,verbose = 2,random_state=100,n_jobs=-1)\n",
    "        randomcv.fit(x_train,y_train)\n",
    "        print(randomcv.best_params_)\n",
    "        \n",
    "        #best_model = randomcv.best_estimator_\n",
    "        #best_model.fit(x_train,y_train)\n",
    "        #y_pred_test = best_model\n",
    "        print(\"best random score\" ,randomcv.best_score_)\n",
    "        return randomcv.best_params_\n",
    "    \n",
    "    def get_grid_params(self,random_params):\n",
    "        grid_params={}\n",
    "        for param in best_random_params.keys():\n",
    "            if type(best_random_params[param])==str:\n",
    "                grid_params[param]=[best_random_params[param]]\n",
    "            elif type(best_random_params[param])==int:\n",
    "                best_value = best_random_params[param]\n",
    "                grid_params[param]=[int(x) for x in range(best_value-10,best_value+10,3)]\n",
    "            elif type(best_random_params[param])==float:\n",
    "                best_value = best_random_params[param]\n",
    "                grid_params[param]=[x for x in np.linspace(best_value-10,best_value+10,10)]\n",
    "        print(grid_params) \n",
    "        return grid_params\n",
    "    \n",
    "    def grid_search_cv(self,model,params,train,test,target_feature):\n",
    "        \n",
    "        #define predictor and response variables\n",
    "        x_train=train.drop([target_feature],axis=1)\n",
    "        y_train = train[[target_feature]]\n",
    "        \n",
    "        gridcv=GridSearchCV(estimator = model,param_grid = params,scoring= 'neg_root_mean_squared_error',\n",
    "                                    cv = 3,verbose = 2,n_jobs=-1)\n",
    "        gridcv.fit(x_train,y_train)\n",
    "        print(gridcv.best_params_)\n",
    "        \n",
    "        #best_model = randomcv.best_estimator_\n",
    "        #best_model.fit(x_train,y_train)\n",
    "        #y_pred_test = best_model\n",
    "        print(\"best grid score\" ,gridcv.best_score_)\n",
    "        #print(gridcv.best_estimator_)\n",
    "        return gridcv.best_estimator_\n",
    "    \n",
    "    def best_model(self,model,params,train,test,target_feature):\n",
    "        random_params = self.random_search_cv(model,params,train,test,target_feature)\n",
    "        grid_params = self.get_grid_params(random_params)\n",
    "        best_model = self.grid_search_cv(model,grid_params,train,test,target_feature)\n",
    "        return best_model\n",
    "    \n",
    "    def apply_model(self,model,train,test,target_feature,k_splits):\n",
    "   \n",
    "        #define predictor and response variables\n",
    "        x_train=train.drop([target_feature],axis=1)\n",
    "        y_train = train[[target_feature]]\n",
    "\n",
    "        model.fit(x_train,y_train)\n",
    "        y_train_pred = model.predict(x_train)\n",
    "   \n",
    "        #define cross-validation method to use\n",
    "        cv = KFold(n_splits=k_splits, random_state=1, shuffle=True) \n",
    "        #get the mean square error cv scores\n",
    "        scores = cross_val_score(model, x_train, y_train, scoring='neg_mean_squared_error',cv=cv, n_jobs=-1)\n",
    "        # get the square root of mean square error cv scores\n",
    "        scores = np.sqrt(np.abs(scores))\n",
    "    \n",
    "        print(f\"Training RMSE {np.sqrt(mean_squared_error(y_train,y_train_pred))}\")\n",
    "        print(f\"CV  mean = {np.mean(scores)} max = {np.max(scores)} min = {np.min(scores)} std = {np.std(scores)}\")\n",
    "    \n",
    "        y_test_pred = model.predict(test)\n",
    "   \n",
    "        print(\"Number of negative values predicted for training: {},test :{}\".format((y_train_pred<0).sum(),(y_test_pred<0).sum()))\n",
    "    \n",
    "        final_pred_df = submission_df(y_test_pred)\n",
    "   \n",
    "        return final_pred_df"
   ]
  },
  {
   "cell_type": "code",
   "execution_count": 147,
   "id": "a937ef4d",
   "metadata": {},
   "outputs": [],
   "source": [
    "rf_params = {\"n_estimators\": [int(x) for x in np.linspace(1,100,10)],\n",
    "             \"criterion\" : [\"squared_error\", \"absolute_error\", \"poisson\"],\n",
    "            \"max_depth\" : [int(x) for x in np.linspace(1,100,10)],\n",
    "            \"min_samples_split\" : [int(x) for x in np.linspace(1,10,5)],\n",
    "             \"max_features\":[\"auto\",\"sqrt\",\"log2\"],\n",
    "            \"min_samples_leaf\":[int(x) for x in np.linspace(1,10,5)],\n",
    "            \"max_leaf_nodes\":[int(x) for x in np.linspace(1,10,5)],\n",
    "            \"max_samples\":[x for x in np.linspace(1,10,5)]}\n",
    "\n",
    "models_with_params = [(\"RandomForest\",RandomForestRegressor(random_state=1),rf_params)]"
   ]
  },
  {
   "cell_type": "code",
   "execution_count": 148,
   "id": "eb2397eb",
   "metadata": {},
   "outputs": [
    {
     "name": "stdout",
     "output_type": "stream",
     "text": [
      "RandomForest\n",
      "Fitting 3 folds for each of 100 candidates, totalling 300 fits\n",
      "{'n_estimators': 23, 'min_samples_split': 3, 'min_samples_leaf': 5, 'max_samples': 1.0, 'max_leaf_nodes': 10, 'max_features': 'auto', 'max_depth': 78, 'criterion': 'squared_error'}\n",
      "best random score -1095.650784679199\n",
      "{'n_estimators': [13, 16, 19, 22, 25, 28, 31], 'min_samples_split': [-7, -4, -1, 2, 5, 8, 11], 'min_samples_leaf': [-5, -2, 1, 4, 7, 10, 13], 'max_leaf_nodes': [0, 3, 6, 9, 12, 15, 18], 'max_features': ['auto'], 'max_depth': [68, 71, 74, 77, 80, 83, 86], 'criterion': ['squared_error']}\n",
      "Fitting 3 folds for each of 16807 candidates, totalling 50421 fits\n",
      "{'criterion': 'squared_error', 'max_depth': 68, 'max_features': 'auto', 'max_leaf_nodes': 15, 'min_samples_leaf': 13, 'min_samples_split': 2, 'n_estimators': 28}\n",
      "best random score -1087.0662981508551\n",
      "RandomForestRegressor(max_depth=68, max_features='auto', max_leaf_nodes=15,\n",
      "                      min_samples_leaf=13, n_estimators=28, random_state=1)\n",
      "Training RMSE 1070.0057133621394\n",
      "CV  mean = 1081.6469731391949 max = 1113.8324002507654 min = 1019.1186532996747 std = 32.492615997078126\n",
      "Number of negative values predicted for training: 0,test :0\n"
     ]
    }
   ],
   "source": [
    "train_df = train.drop([\"Item_Identifier\",\"Outlet_Identifier\"],axis=1)\n",
    "test_df = test.drop([\"Item_Identifier\",\"Outlet_Identifier\"],axis=1)\n",
    "\n",
    "for model in models_with_params:\n",
    "    print(model[0])\n",
    "    tuning_obj = Tuning()\n",
    "    best_estimator = tuning_obj.best_model(model[1],model[2],train_df,test_df,\"Item_Outlet_Sales\")\n",
    "    print(best_estimator)\n",
    "    df[\"RFWithTuning\"]=tuning_obj.apply_model(best_estimator,train_df,test_df,\"Item_Outlet_Sales\",5)\n",
    "    #best_random_params = tuning_obj.random_search_cv(model[1],model[2],train_df,test_df,\"Item_Outlet_Sales\")"
   ]
  },
  {
   "cell_type": "code",
   "execution_count": 149,
   "id": "c21e10d1",
   "metadata": {},
   "outputs": [],
   "source": [
    "df[\"RFWithTuning\"].to_csv(\"RF_with_Grid_And_Rand_Tuning.csv\",index=False)\n",
    "#Your score for this submission is : 1156.5927474560235."
   ]
  }
 
